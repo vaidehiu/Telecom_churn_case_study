{
 "cells": [
  {
   "cell_type": "markdown",
   "id": "66a1ed52",
   "metadata": {},
   "source": [
    "### TELECOM CHURN "
   ]
  },
  {
   "cell_type": "markdown",
   "id": "e3e3d35e",
   "metadata": {},
   "source": [
    "To reduce customer churn, telecom companies need to predict which customers are at high risk of churn. In this project, we will analyse customer-level data of a leading telecom firm, build predictive models to identify customers at high risk of churn and identify the main indicators of churn.\n",
    "\n",
    "Retaining high profitable customers is the main business goal here."
   ]
  },
  {
   "cell_type": "markdown",
   "id": "4a2f104b",
   "metadata": {},
   "source": [
    "##### DATA DICTIONARY "
   ]
  },
  {
   "cell_type": "markdown",
   "id": "f4600632",
   "metadata": {},
   "source": [
    "#### Acronyms   \n",
    "- CIRCLE_ID - Telecom circle area to which the customer belongs to\n",
    "- LOC - Local calls  within same telecom circle\n",
    "- STD - STD calls  outside the calling circle\n",
    "- IC - Incoming calls\n",
    "- OG - Outgoing calls\n",
    "- T2T - Operator T to T ie within same operator mobile to mobile\n",
    "- T2M - Operator T to other operator mobile\n",
    "- T2O - Operator T to other operator fixed line\n",
    "- T2F - Operator T to fixed lines of T\n",
    "- T2C - Operator T to its own call center\n",
    "- ARPU - Average revenue per user\n",
    "- MOU - Minutes of usage  voice calls\n",
    "- AON - Age on network  number of days the customer is using the operator T network\n",
    "- ONNET - All kind of calls within the same operator network\n",
    "- OFFNET - All kind of calls outside the operator T network\n",
    "- ROAM - Indicates that customer is in roaming zone during the call\n",
    "- SPL - Special calls\n",
    "- ISD - ISD calls\n",
    "- RECH - Recharge\n",
    "- NUM - Number\n",
    "- AMT - Amount in local currency\n",
    "- MAX - Maximum\n",
    "- DATA - Mobile internet\n",
    "- 3G - G network\n",
    "- AV - Average\n",
    "- VOL - Mobile internet usage volume in MB\n",
    "- 2G - G network\n",
    "- PCK - Prepaid service schemes called  PACKS\n",
    "- NIGHT - Scheme to use during specific night hours only\n",
    "- MONTHLY - Service schemes with validity equivalent to a month\n",
    "- SACHET - Service schemes with validity smaller than a month\n",
    "- *.6 - KPI for the month of June\n",
    "- *.7 - KPI for the month of July\n",
    "- *.8 - KPI for the month of August\n",
    "- FB_USER - Service scheme to avail services of Facebook and similar social networking sites\n",
    "- VBC - Volume based cost  when no specific scheme is not purchased and paid as per usage\n",
    "\n"
   ]
  },
  {
   "cell_type": "markdown",
   "id": "c6ac2f58",
   "metadata": {},
   "source": [
    "##### IGNORE WARNINGS"
   ]
  },
  {
   "cell_type": "code",
   "execution_count": 1,
   "id": "c39dd9d3",
   "metadata": {},
   "outputs": [],
   "source": [
    "import warnings\n",
    "warnings.filterwarnings(action='ignore')"
   ]
  },
  {
   "cell_type": "markdown",
   "id": "e858791f",
   "metadata": {},
   "source": [
    "##### IMPORT LIBRARIES"
   ]
  },
  {
   "cell_type": "code",
   "execution_count": 2,
   "id": "6549221b",
   "metadata": {},
   "outputs": [],
   "source": [
    "import numpy as np\n",
    "import pandas as pd\n",
    "import matplotlib.pyplot as plt\n",
    "import seaborn as sns"
   ]
  },
  {
   "cell_type": "markdown",
   "id": "8d9fc37e",
   "metadata": {},
   "source": [
    "#### IMPORTING & READING THE DATASET"
   ]
  },
  {
   "cell_type": "code",
   "execution_count": 3,
   "id": "be21a731",
   "metadata": {},
   "outputs": [],
   "source": [
    "# Importing dataset\n",
    "data = pd.read_csv('Dataset/train.csv')\n",
    " \n",
    "##copy data\n",
    "data_copy=data\n",
    "\n",
    "# To display maximum rows and columns\n",
    "pd.set_option('max_columns',None)\n",
    "pd.set_option('max_rows',None)"
   ]
  },
  {
   "cell_type": "code",
   "execution_count": 4,
   "id": "fcf1f3b7",
   "metadata": {},
   "outputs": [],
   "source": [
    "def num_rows():\n",
    "    rows, columns = data.shape\n",
    "    print(f'The dataset has {rows} rows and {columns} columns')"
   ]
  },
  {
   "cell_type": "code",
   "execution_count": 5,
   "id": "ea5ec122",
   "metadata": {},
   "outputs": [
    {
     "name": "stdout",
     "output_type": "stream",
     "text": [
      "The dataset has 69999 rows and 172 columns\n"
     ]
    }
   ],
   "source": [
    "num_rows()"
   ]
  },
  {
   "cell_type": "markdown",
   "id": "3fd3a129",
   "metadata": {},
   "source": [
    "#### NUMBER OF FEATURES"
   ]
  },
  {
   "cell_type": "code",
   "execution_count": 6,
   "id": "2acaef95",
   "metadata": {},
   "outputs": [
    {
     "name": "stdout",
     "output_type": "stream",
     "text": [
      "NUMBER OF NUMERICAL AND CATEGORICAL FEATURES:\n",
      "There are 163 numerical features and 9 categorical features.\n"
     ]
    }
   ],
   "source": [
    "# Looping to find the number of categorical and numerical features\n",
    "num, obj = 0,0\n",
    "for feature in data.columns:\n",
    "    if data.dtypes[feature] != 'O':\n",
    "        num += 1\n",
    "    else:\n",
    "        obj += 1\n",
    "print('NUMBER OF NUMERICAL AND CATEGORICAL FEATURES:')\n",
    "print(f'There are {num} numerical features and {obj} categorical features.')"
   ]
  },
  {
   "cell_type": "markdown",
   "id": "f917311f",
   "metadata": {},
   "source": [
    "#### BASIC INFO ON THE DATASET"
   ]
  },
  {
   "cell_type": "code",
   "execution_count": 7,
   "id": "49b6c326",
   "metadata": {
    "scrolled": false
   },
   "outputs": [
    {
     "name": "stdout",
     "output_type": "stream",
     "text": [
      "<class 'pandas.core.frame.DataFrame'>\n",
      "RangeIndex: 69999 entries, 0 to 69998\n",
      "Data columns (total 172 columns):\n",
      " #    Column                    Dtype  \n",
      "---   ------                    -----  \n",
      " 0    id                        int64  \n",
      " 1    circle_id                 int64  \n",
      " 2    loc_og_t2o_mou            float64\n",
      " 3    std_og_t2o_mou            float64\n",
      " 4    loc_ic_t2o_mou            float64\n",
      " 5    last_date_of_month_6      object \n",
      " 6    last_date_of_month_7      object \n",
      " 7    last_date_of_month_8      object \n",
      " 8    arpu_6                    float64\n",
      " 9    arpu_7                    float64\n",
      " 10   arpu_8                    float64\n",
      " 11   onnet_mou_6               float64\n",
      " 12   onnet_mou_7               float64\n",
      " 13   onnet_mou_8               float64\n",
      " 14   offnet_mou_6              float64\n",
      " 15   offnet_mou_7              float64\n",
      " 16   offnet_mou_8              float64\n",
      " 17   roam_ic_mou_6             float64\n",
      " 18   roam_ic_mou_7             float64\n",
      " 19   roam_ic_mou_8             float64\n",
      " 20   roam_og_mou_6             float64\n",
      " 21   roam_og_mou_7             float64\n",
      " 22   roam_og_mou_8             float64\n",
      " 23   loc_og_t2t_mou_6          float64\n",
      " 24   loc_og_t2t_mou_7          float64\n",
      " 25   loc_og_t2t_mou_8          float64\n",
      " 26   loc_og_t2m_mou_6          float64\n",
      " 27   loc_og_t2m_mou_7          float64\n",
      " 28   loc_og_t2m_mou_8          float64\n",
      " 29   loc_og_t2f_mou_6          float64\n",
      " 30   loc_og_t2f_mou_7          float64\n",
      " 31   loc_og_t2f_mou_8          float64\n",
      " 32   loc_og_t2c_mou_6          float64\n",
      " 33   loc_og_t2c_mou_7          float64\n",
      " 34   loc_og_t2c_mou_8          float64\n",
      " 35   loc_og_mou_6              float64\n",
      " 36   loc_og_mou_7              float64\n",
      " 37   loc_og_mou_8              float64\n",
      " 38   std_og_t2t_mou_6          float64\n",
      " 39   std_og_t2t_mou_7          float64\n",
      " 40   std_og_t2t_mou_8          float64\n",
      " 41   std_og_t2m_mou_6          float64\n",
      " 42   std_og_t2m_mou_7          float64\n",
      " 43   std_og_t2m_mou_8          float64\n",
      " 44   std_og_t2f_mou_6          float64\n",
      " 45   std_og_t2f_mou_7          float64\n",
      " 46   std_og_t2f_mou_8          float64\n",
      " 47   std_og_t2c_mou_6          float64\n",
      " 48   std_og_t2c_mou_7          float64\n",
      " 49   std_og_t2c_mou_8          float64\n",
      " 50   std_og_mou_6              float64\n",
      " 51   std_og_mou_7              float64\n",
      " 52   std_og_mou_8              float64\n",
      " 53   isd_og_mou_6              float64\n",
      " 54   isd_og_mou_7              float64\n",
      " 55   isd_og_mou_8              float64\n",
      " 56   spl_og_mou_6              float64\n",
      " 57   spl_og_mou_7              float64\n",
      " 58   spl_og_mou_8              float64\n",
      " 59   og_others_6               float64\n",
      " 60   og_others_7               float64\n",
      " 61   og_others_8               float64\n",
      " 62   total_og_mou_6            float64\n",
      " 63   total_og_mou_7            float64\n",
      " 64   total_og_mou_8            float64\n",
      " 65   loc_ic_t2t_mou_6          float64\n",
      " 66   loc_ic_t2t_mou_7          float64\n",
      " 67   loc_ic_t2t_mou_8          float64\n",
      " 68   loc_ic_t2m_mou_6          float64\n",
      " 69   loc_ic_t2m_mou_7          float64\n",
      " 70   loc_ic_t2m_mou_8          float64\n",
      " 71   loc_ic_t2f_mou_6          float64\n",
      " 72   loc_ic_t2f_mou_7          float64\n",
      " 73   loc_ic_t2f_mou_8          float64\n",
      " 74   loc_ic_mou_6              float64\n",
      " 75   loc_ic_mou_7              float64\n",
      " 76   loc_ic_mou_8              float64\n",
      " 77   std_ic_t2t_mou_6          float64\n",
      " 78   std_ic_t2t_mou_7          float64\n",
      " 79   std_ic_t2t_mou_8          float64\n",
      " 80   std_ic_t2m_mou_6          float64\n",
      " 81   std_ic_t2m_mou_7          float64\n",
      " 82   std_ic_t2m_mou_8          float64\n",
      " 83   std_ic_t2f_mou_6          float64\n",
      " 84   std_ic_t2f_mou_7          float64\n",
      " 85   std_ic_t2f_mou_8          float64\n",
      " 86   std_ic_t2o_mou_6          float64\n",
      " 87   std_ic_t2o_mou_7          float64\n",
      " 88   std_ic_t2o_mou_8          float64\n",
      " 89   std_ic_mou_6              float64\n",
      " 90   std_ic_mou_7              float64\n",
      " 91   std_ic_mou_8              float64\n",
      " 92   total_ic_mou_6            float64\n",
      " 93   total_ic_mou_7            float64\n",
      " 94   total_ic_mou_8            float64\n",
      " 95   spl_ic_mou_6              float64\n",
      " 96   spl_ic_mou_7              float64\n",
      " 97   spl_ic_mou_8              float64\n",
      " 98   isd_ic_mou_6              float64\n",
      " 99   isd_ic_mou_7              float64\n",
      " 100  isd_ic_mou_8              float64\n",
      " 101  ic_others_6               float64\n",
      " 102  ic_others_7               float64\n",
      " 103  ic_others_8               float64\n",
      " 104  total_rech_num_6          int64  \n",
      " 105  total_rech_num_7          int64  \n",
      " 106  total_rech_num_8          int64  \n",
      " 107  total_rech_amt_6          int64  \n",
      " 108  total_rech_amt_7          int64  \n",
      " 109  total_rech_amt_8          int64  \n",
      " 110  max_rech_amt_6            int64  \n",
      " 111  max_rech_amt_7            int64  \n",
      " 112  max_rech_amt_8            int64  \n",
      " 113  date_of_last_rech_6       object \n",
      " 114  date_of_last_rech_7       object \n",
      " 115  date_of_last_rech_8       object \n",
      " 116  last_day_rch_amt_6        int64  \n",
      " 117  last_day_rch_amt_7        int64  \n",
      " 118  last_day_rch_amt_8        int64  \n",
      " 119  date_of_last_rech_data_6  object \n",
      " 120  date_of_last_rech_data_7  object \n",
      " 121  date_of_last_rech_data_8  object \n",
      " 122  total_rech_data_6         float64\n",
      " 123  total_rech_data_7         float64\n",
      " 124  total_rech_data_8         float64\n",
      " 125  max_rech_data_6           float64\n",
      " 126  max_rech_data_7           float64\n",
      " 127  max_rech_data_8           float64\n",
      " 128  count_rech_2g_6           float64\n",
      " 129  count_rech_2g_7           float64\n",
      " 130  count_rech_2g_8           float64\n",
      " 131  count_rech_3g_6           float64\n",
      " 132  count_rech_3g_7           float64\n",
      " 133  count_rech_3g_8           float64\n",
      " 134  av_rech_amt_data_6        float64\n",
      " 135  av_rech_amt_data_7        float64\n",
      " 136  av_rech_amt_data_8        float64\n",
      " 137  vol_2g_mb_6               float64\n",
      " 138  vol_2g_mb_7               float64\n",
      " 139  vol_2g_mb_8               float64\n",
      " 140  vol_3g_mb_6               float64\n",
      " 141  vol_3g_mb_7               float64\n",
      " 142  vol_3g_mb_8               float64\n",
      " 143  arpu_3g_6                 float64\n",
      " 144  arpu_3g_7                 float64\n",
      " 145  arpu_3g_8                 float64\n",
      " 146  arpu_2g_6                 float64\n",
      " 147  arpu_2g_7                 float64\n",
      " 148  arpu_2g_8                 float64\n",
      " 149  night_pck_user_6          float64\n",
      " 150  night_pck_user_7          float64\n",
      " 151  night_pck_user_8          float64\n",
      " 152  monthly_2g_6              int64  \n",
      " 153  monthly_2g_7              int64  \n",
      " 154  monthly_2g_8              int64  \n",
      " 155  sachet_2g_6               int64  \n",
      " 156  sachet_2g_7               int64  \n",
      " 157  sachet_2g_8               int64  \n",
      " 158  monthly_3g_6              int64  \n",
      " 159  monthly_3g_7              int64  \n",
      " 160  monthly_3g_8              int64  \n",
      " 161  sachet_3g_6               int64  \n",
      " 162  sachet_3g_7               int64  \n",
      " 163  sachet_3g_8               int64  \n",
      " 164  fb_user_6                 float64\n",
      " 165  fb_user_7                 float64\n",
      " 166  fb_user_8                 float64\n",
      " 167  aon                       int64  \n",
      " 168  aug_vbc_3g                float64\n",
      " 169  jul_vbc_3g                float64\n",
      " 170  jun_vbc_3g                float64\n",
      " 171  churn_probability         int64  \n",
      "dtypes: float64(135), int64(28), object(9)\n",
      "memory usage: 91.9+ MB\n"
     ]
    }
   ],
   "source": [
    "data.info(verbose=True)"
   ]
  },
  {
   "cell_type": "code",
   "execution_count": 8,
   "id": "d7b9fae9",
   "metadata": {},
   "outputs": [
    {
     "name": "stdout",
     "output_type": "stream",
     "text": [
      "There are no duplicates in the dataset.\n"
     ]
    }
   ],
   "source": [
    "# Looking for data duplicates\n",
    "row, column = data[data.duplicated()].shape\n",
    "print('There are no duplicates in the dataset.' if row==0 else f'There are {row} duplicates in the dataset.')"
   ]
  },
  {
   "cell_type": "markdown",
   "id": "661fe921",
   "metadata": {},
   "source": [
    "##### NUMBER OF FEATURES AND PERCENTAGE OF NULL VALUES"
   ]
  },
  {
   "cell_type": "code",
   "execution_count": 9,
   "id": "14bbeffa",
   "metadata": {},
   "outputs": [],
   "source": [
    "def percentage_missing(data):\n",
    "    # Percentage of missing values\n",
    "    print('\\nPERCENTAGE MISSING VALUES:')\n",
    "    c=0\n",
    "    for feature in data:\n",
    "        if data[feature].isnull().sum()!=0:\n",
    "            print(f\"The feature '{feature}' has {np.round((data[feature].isnull().mean()*100),2)}% missing values\")\n",
    "        else:\n",
    "            c+=1\n",
    "    if c == len(data.columns):print('There is no missing values in the dataset')\n",
    "    print(\"\\n\")"
   ]
  },
  {
   "cell_type": "code",
   "execution_count": 10,
   "id": "9d53c74e",
   "metadata": {},
   "outputs": [
    {
     "name": "stdout",
     "output_type": "stream",
     "text": [
      "\n",
      "PERCENTAGE MISSING VALUES:\n",
      "The feature 'loc_og_t2o_mou' has 1.0% missing values\n",
      "The feature 'std_og_t2o_mou' has 1.0% missing values\n",
      "The feature 'loc_ic_t2o_mou' has 1.0% missing values\n",
      "The feature 'last_date_of_month_7' has 0.57% missing values\n",
      "The feature 'last_date_of_month_8' has 1.05% missing values\n",
      "The feature 'onnet_mou_6' has 3.95% missing values\n",
      "The feature 'onnet_mou_7' has 3.84% missing values\n",
      "The feature 'onnet_mou_8' has 5.29% missing values\n",
      "The feature 'offnet_mou_6' has 3.95% missing values\n",
      "The feature 'offnet_mou_7' has 3.84% missing values\n",
      "The feature 'offnet_mou_8' has 5.29% missing values\n",
      "The feature 'roam_ic_mou_6' has 3.95% missing values\n",
      "The feature 'roam_ic_mou_7' has 3.84% missing values\n",
      "The feature 'roam_ic_mou_8' has 5.29% missing values\n",
      "The feature 'roam_og_mou_6' has 3.95% missing values\n",
      "The feature 'roam_og_mou_7' has 3.84% missing values\n",
      "The feature 'roam_og_mou_8' has 5.29% missing values\n",
      "The feature 'loc_og_t2t_mou_6' has 3.95% missing values\n",
      "The feature 'loc_og_t2t_mou_7' has 3.84% missing values\n",
      "The feature 'loc_og_t2t_mou_8' has 5.29% missing values\n",
      "The feature 'loc_og_t2m_mou_6' has 3.95% missing values\n",
      "The feature 'loc_og_t2m_mou_7' has 3.84% missing values\n",
      "The feature 'loc_og_t2m_mou_8' has 5.29% missing values\n",
      "The feature 'loc_og_t2f_mou_6' has 3.95% missing values\n",
      "The feature 'loc_og_t2f_mou_7' has 3.84% missing values\n",
      "The feature 'loc_og_t2f_mou_8' has 5.29% missing values\n",
      "The feature 'loc_og_t2c_mou_6' has 3.95% missing values\n",
      "The feature 'loc_og_t2c_mou_7' has 3.84% missing values\n",
      "The feature 'loc_og_t2c_mou_8' has 5.29% missing values\n",
      "The feature 'loc_og_mou_6' has 3.95% missing values\n",
      "The feature 'loc_og_mou_7' has 3.84% missing values\n",
      "The feature 'loc_og_mou_8' has 5.29% missing values\n",
      "The feature 'std_og_t2t_mou_6' has 3.95% missing values\n",
      "The feature 'std_og_t2t_mou_7' has 3.84% missing values\n",
      "The feature 'std_og_t2t_mou_8' has 5.29% missing values\n",
      "The feature 'std_og_t2m_mou_6' has 3.95% missing values\n",
      "The feature 'std_og_t2m_mou_7' has 3.84% missing values\n",
      "The feature 'std_og_t2m_mou_8' has 5.29% missing values\n",
      "The feature 'std_og_t2f_mou_6' has 3.95% missing values\n",
      "The feature 'std_og_t2f_mou_7' has 3.84% missing values\n",
      "The feature 'std_og_t2f_mou_8' has 5.29% missing values\n",
      "The feature 'std_og_t2c_mou_6' has 3.95% missing values\n",
      "The feature 'std_og_t2c_mou_7' has 3.84% missing values\n",
      "The feature 'std_og_t2c_mou_8' has 5.29% missing values\n",
      "The feature 'std_og_mou_6' has 3.95% missing values\n",
      "The feature 'std_og_mou_7' has 3.84% missing values\n",
      "The feature 'std_og_mou_8' has 5.29% missing values\n",
      "The feature 'isd_og_mou_6' has 3.95% missing values\n",
      "The feature 'isd_og_mou_7' has 3.84% missing values\n",
      "The feature 'isd_og_mou_8' has 5.29% missing values\n",
      "The feature 'spl_og_mou_6' has 3.95% missing values\n",
      "The feature 'spl_og_mou_7' has 3.84% missing values\n",
      "The feature 'spl_og_mou_8' has 5.29% missing values\n",
      "The feature 'og_others_6' has 3.95% missing values\n",
      "The feature 'og_others_7' has 3.84% missing values\n",
      "The feature 'og_others_8' has 5.29% missing values\n",
      "The feature 'loc_ic_t2t_mou_6' has 3.95% missing values\n",
      "The feature 'loc_ic_t2t_mou_7' has 3.84% missing values\n",
      "The feature 'loc_ic_t2t_mou_8' has 5.29% missing values\n",
      "The feature 'loc_ic_t2m_mou_6' has 3.95% missing values\n",
      "The feature 'loc_ic_t2m_mou_7' has 3.84% missing values\n",
      "The feature 'loc_ic_t2m_mou_8' has 5.29% missing values\n",
      "The feature 'loc_ic_t2f_mou_6' has 3.95% missing values\n",
      "The feature 'loc_ic_t2f_mou_7' has 3.84% missing values\n",
      "The feature 'loc_ic_t2f_mou_8' has 5.29% missing values\n",
      "The feature 'loc_ic_mou_6' has 3.95% missing values\n",
      "The feature 'loc_ic_mou_7' has 3.84% missing values\n",
      "The feature 'loc_ic_mou_8' has 5.29% missing values\n",
      "The feature 'std_ic_t2t_mou_6' has 3.95% missing values\n",
      "The feature 'std_ic_t2t_mou_7' has 3.84% missing values\n",
      "The feature 'std_ic_t2t_mou_8' has 5.29% missing values\n",
      "The feature 'std_ic_t2m_mou_6' has 3.95% missing values\n",
      "The feature 'std_ic_t2m_mou_7' has 3.84% missing values\n",
      "The feature 'std_ic_t2m_mou_8' has 5.29% missing values\n",
      "The feature 'std_ic_t2f_mou_6' has 3.95% missing values\n",
      "The feature 'std_ic_t2f_mou_7' has 3.84% missing values\n",
      "The feature 'std_ic_t2f_mou_8' has 5.29% missing values\n",
      "The feature 'std_ic_t2o_mou_6' has 3.95% missing values\n",
      "The feature 'std_ic_t2o_mou_7' has 3.84% missing values\n",
      "The feature 'std_ic_t2o_mou_8' has 5.29% missing values\n",
      "The feature 'std_ic_mou_6' has 3.95% missing values\n",
      "The feature 'std_ic_mou_7' has 3.84% missing values\n",
      "The feature 'std_ic_mou_8' has 5.29% missing values\n",
      "The feature 'spl_ic_mou_6' has 3.95% missing values\n",
      "The feature 'spl_ic_mou_7' has 3.84% missing values\n",
      "The feature 'spl_ic_mou_8' has 5.29% missing values\n",
      "The feature 'isd_ic_mou_6' has 3.95% missing values\n",
      "The feature 'isd_ic_mou_7' has 3.84% missing values\n",
      "The feature 'isd_ic_mou_8' has 5.29% missing values\n",
      "The feature 'ic_others_6' has 3.95% missing values\n",
      "The feature 'ic_others_7' has 3.84% missing values\n",
      "The feature 'ic_others_8' has 5.29% missing values\n",
      "The feature 'date_of_last_rech_6' has 1.57% missing values\n",
      "The feature 'date_of_last_rech_7' has 1.76% missing values\n",
      "The feature 'date_of_last_rech_8' has 3.52% missing values\n",
      "The feature 'date_of_last_rech_data_6' has 74.9% missing values\n",
      "The feature 'date_of_last_rech_data_7' has 74.48% missing values\n",
      "The feature 'date_of_last_rech_data_8' has 73.69% missing values\n",
      "The feature 'total_rech_data_6' has 74.9% missing values\n",
      "The feature 'total_rech_data_7' has 74.48% missing values\n",
      "The feature 'total_rech_data_8' has 73.69% missing values\n",
      "The feature 'max_rech_data_6' has 74.9% missing values\n",
      "The feature 'max_rech_data_7' has 74.48% missing values\n",
      "The feature 'max_rech_data_8' has 73.69% missing values\n",
      "The feature 'count_rech_2g_6' has 74.9% missing values\n",
      "The feature 'count_rech_2g_7' has 74.48% missing values\n",
      "The feature 'count_rech_2g_8' has 73.69% missing values\n",
      "The feature 'count_rech_3g_6' has 74.9% missing values\n",
      "The feature 'count_rech_3g_7' has 74.48% missing values\n",
      "The feature 'count_rech_3g_8' has 73.69% missing values\n",
      "The feature 'av_rech_amt_data_6' has 74.9% missing values\n",
      "The feature 'av_rech_amt_data_7' has 74.48% missing values\n",
      "The feature 'av_rech_amt_data_8' has 73.69% missing values\n",
      "The feature 'arpu_3g_6' has 74.9% missing values\n",
      "The feature 'arpu_3g_7' has 74.48% missing values\n",
      "The feature 'arpu_3g_8' has 73.69% missing values\n",
      "The feature 'arpu_2g_6' has 74.9% missing values\n",
      "The feature 'arpu_2g_7' has 74.48% missing values\n",
      "The feature 'arpu_2g_8' has 73.69% missing values\n",
      "The feature 'night_pck_user_6' has 74.9% missing values\n",
      "The feature 'night_pck_user_7' has 74.48% missing values\n",
      "The feature 'night_pck_user_8' has 73.69% missing values\n",
      "The feature 'fb_user_6' has 74.9% missing values\n",
      "The feature 'fb_user_7' has 74.48% missing values\n",
      "The feature 'fb_user_8' has 73.69% missing values\n",
      "\n",
      "\n"
     ]
    }
   ],
   "source": [
    "percentage_missing(data)"
   ]
  },
  {
   "cell_type": "code",
   "execution_count": 11,
   "id": "83e86b11",
   "metadata": {},
   "outputs": [
    {
     "name": "stdout",
     "output_type": "stream",
     "text": [
      "\n",
      "LESS THAN 50% MISSING VALUES IMPUTATION\n",
      "['date_of_last_rech_data_6', 'date_of_last_rech_data_7', 'date_of_last_rech_data_8', 'total_rech_data_6', 'total_rech_data_7', 'total_rech_data_8', 'max_rech_data_6', 'max_rech_data_7', 'max_rech_data_8', 'count_rech_2g_6', 'count_rech_2g_7', 'count_rech_2g_8', 'count_rech_3g_6', 'count_rech_3g_7', 'count_rech_3g_8', 'av_rech_amt_data_6', 'av_rech_amt_data_7', 'av_rech_amt_data_8', 'arpu_3g_6', 'arpu_3g_7', 'arpu_3g_8', 'arpu_2g_6', 'arpu_2g_7', 'arpu_2g_8', 'night_pck_user_6', 'night_pck_user_7', 'night_pck_user_8', 'fb_user_6', 'fb_user_7', 'fb_user_8']\n",
      "30\n"
     ]
    }
   ],
   "source": [
    "print('\\nLESS THAN 50% MISSING VALUES IMPUTATION')\n",
    "rm_lst = []\n",
    "\n",
    "for i in data.columns:\n",
    "\n",
    "    if data[i].isnull().mean()*100 > 50.0 :\n",
    "\n",
    "        rm_lst.append(i)\n",
    "\n",
    "\n",
    "\n",
    "print(rm_lst)\n",
    "\n",
    "print(len(rm_lst))\n",
    "    "
   ]
  },
  {
   "cell_type": "code",
   "execution_count": 12,
   "id": "2603ef9f",
   "metadata": {},
   "outputs": [],
   "source": [
    "### Removing columns more than 50% null values\n",
    "for feature in rm_lst:\n",
    "    del data[feature]\n",
    "    "
   ]
  },
  {
   "cell_type": "code",
   "execution_count": null,
   "id": "2f083365",
   "metadata": {},
   "outputs": [],
   "source": [
    "num_rows()\n",
    "percentage_missing(data)"
   ]
  },
  {
   "cell_type": "code",
   "execution_count": null,
   "id": "ed6504d4",
   "metadata": {},
   "outputs": [],
   "source": [
    "# number of numerical and categorical features\n",
    "num, obj = 0, 0\n",
    "numerical_feature=[]\n",
    "categorical_feature=[]\n",
    "for feature in data:\n",
    "    if data[feature].dtype == 'O':\n",
    "        categorical_feature.append(feature)\n",
    "        obj += 1\n",
    "    else:\n",
    "        num += 1\n",
    "        numerical_feature.append(feature)\n",
    "\n",
    "print(f'{categorical_feature} are categorical features')\n",
    "print(f'{numerical_feature} are numerical features')"
   ]
  },
  {
   "cell_type": "markdown",
   "id": "62023e1e",
   "metadata": {},
   "source": [
    "##### Removing 'id' this has all unique value which has no significance "
   ]
  },
  {
   "cell_type": "code",
   "execution_count": null,
   "id": "8f7d4816",
   "metadata": {},
   "outputs": [],
   "source": [
    "del data['id']"
   ]
  },
  {
   "cell_type": "markdown",
   "id": "3c3e69a3",
   "metadata": {},
   "source": [
    "#####  Removing features which has only one value as it has no significance in the study done"
   ]
  },
  {
   "cell_type": "code",
   "execution_count": null,
   "id": "fc375fe3",
   "metadata": {},
   "outputs": [],
   "source": [
    "data=data[data.columns[data.nunique()!=1]]"
   ]
  },
  {
   "cell_type": "code",
   "execution_count": null,
   "id": "5fb50403",
   "metadata": {},
   "outputs": [],
   "source": [
    "data.nunique()"
   ]
  },
  {
   "cell_type": "code",
   "execution_count": null,
   "id": "e19100cf",
   "metadata": {},
   "outputs": [],
   "source": [
    "num_rows()\n",
    "percentage_missing(data)"
   ]
  },
  {
   "cell_type": "code",
   "execution_count": 15,
   "id": "8b994a3b",
   "metadata": {},
   "outputs": [
    {
     "ename": "SyntaxError",
     "evalue": "invalid syntax (<ipython-input-15-1d58ae4740fd>, line 1)",
     "output_type": "error",
     "traceback": [
      "\u001b[1;36m  File \u001b[1;32m\"<ipython-input-15-1d58ae4740fd>\"\u001b[1;36m, line \u001b[1;32m1\u001b[0m\n\u001b[1;33m    labels = 'Exited', 'Retained'sizes = [data.churn_probability[df['churn_probability']==1].count(), data.churn_probability[data['churn_probability']==0].count()]\u001b[0m\n\u001b[1;37m                                 ^\u001b[0m\n\u001b[1;31mSyntaxError\u001b[0m\u001b[1;31m:\u001b[0m invalid syntax\n"
     ]
    }
   ],
   "source": [
    "labels = 'Exited', 'Retained'sizes = [data.churn_probability[df['churn_probability']==1].count(), data.churn_probability[data['churn_probability']==0].count()]\n",
    "explode = (0, 0.1)\n",
    "fig1, ax1 = plt.subplots(figsize=(10, 8))\n",
    "ax1.pie(sizes, explode=explode, labels=labels, autopct='%1.1f%%',        shadow=True, startangle=90)ax1.axis('equal')\n",
    "plt.title(\"Proportion of customer churned and retained\", size = 20)\n",
    "plt.show()\n",
    "labels = 'Exited', 'Retained'\n",
    "sizes = [data.churn_probability[data['churn_probability']==1].count(), df.churn_probability[data['churn_probability']==0].count()]\n",
    "explode = (0, 0.1)\n",
    "fig1, ax1 = plt.subplots(figsize=(10, 8))\n",
    "ax1.pie(sizes, explode=explode, labels=labels, autopct='%1.1f%%',shadow=True, startangle=90)\n",
    "ax1.axis('equal')\n",
    "plt.title(\"Proportion of customer churned and retained\", size = 20)\n",
    "plt.show()"
   ]
  },
  {
   "cell_type": "code",
   "execution_count": null,
   "id": "0c3f924f",
   "metadata": {},
   "outputs": [],
   "source": []
  }
 ],
 "metadata": {
  "kernelspec": {
   "display_name": "Python 3",
   "language": "python",
   "name": "python3"
  },
  "language_info": {
   "codemirror_mode": {
    "name": "ipython",
    "version": 3
   },
   "file_extension": ".py",
   "mimetype": "text/x-python",
   "name": "python",
   "nbconvert_exporter": "python",
   "pygments_lexer": "ipython3",
   "version": "3.8.8"
  }
 },
 "nbformat": 4,
 "nbformat_minor": 5
}
