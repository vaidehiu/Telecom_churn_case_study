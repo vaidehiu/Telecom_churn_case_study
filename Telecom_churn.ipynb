{
 "cells": [
  {
   "cell_type": "markdown",
   "id": "ed8290a2",
   "metadata": {},
   "source": [
    "### TELECOM CHURN "
   ]
  },
  {
   "cell_type": "code",
   "execution_count": null,
   "id": "abead561",
   "metadata": {},
   "outputs": [],
   "source": []
  },
  {
   "cell_type": "markdown",
   "id": "389939fa",
   "metadata": {},
   "source": [
    "##### DATA DICTIONARY "
   ]
  },
  {
   "cell_type": "markdown",
   "id": "fb99f6d2",
   "metadata": {},
   "source": [
    "#### Acronyms\t\n",
    "- CIRCLE_ID\tTelecom circle area to which the customer belongs to\n",
    "- LOC\tLocal calls  within same telecom circle\n",
    "- STD\tSTD calls  outside the calling circle\n",
    "- IC\tIncoming calls\n",
    "- OG\tOutgoing calls\n",
    "- T2T\tOperator T to T ie within same operator mobile to mobile\n",
    "- T2M    \tOperator T to other operator mobile\n",
    "- T2O    \tOperator T to other operator fixed line\n",
    "- T2F    \tOperator T to fixed lines of T\n",
    "- T2C    \tOperator T to its own call center\n",
    "- ARPU    \tAverage revenue per user\n",
    "- MOU    \tMinutes of usage  voice calls\n",
    "- AON    \tAge on network  number of days the customer is using the operator T network\n",
    "- ONNET   \tAll kind of calls within the same operator network\n",
    "- OFFNET    \tAll kind of calls outside the operator T network\n",
    "- ROAM\tIndicates that customer is in roaming zone during the call\n",
    "- SPL   \tSpecial calls\n",
    "- ISD    \tISD calls\n",
    "- RECH    \tRecharge\n",
    "- NUM    \tNumber\n",
    "- AMT    \tAmount in local currency\n",
    "- MAX    \tMaximum\n",
    "- DATA    \tMobile internet\n",
    "- 3G    \tG network\n",
    "- AV    \tAverage\n",
    "- VOL    \tMobile internet usage volume in MB\n",
    "- 2G    \tG network\n",
    "- PCK    \tPrepaid service schemes called  PACKS\n",
    "- NIGHT    \tScheme to use during specific night hours only\n",
    "- MONTHLY    \tService schemes with validity equivalent to a month\n",
    "- SACHET   \tService schemes with validity smaller than a month\n",
    "- *.6    \tKPI for the month of June\n",
    "- *.7    \tKPI for the month of July\n",
    "- *.8    \tKPI for the month of August\n",
    "- FB_USER\tService scheme to avail services of Facebook and similar social networking sites\n",
    "- VBC    \tVolume based cost  when no specific scheme is not purchased and paid as per usage\n"
   ]
  },
  {
   "cell_type": "markdown",
   "id": "e133ac7d",
   "metadata": {},
   "source": [
    "##### IGNORE WARNINGS"
   ]
  },
  {
   "cell_type": "code",
   "execution_count": 3,
   "id": "0bb84d74",
   "metadata": {},
   "outputs": [],
   "source": [
    "import warnings\n",
    "warnings.filterwarnings(action='ignore')"
   ]
  },
  {
   "cell_type": "markdown",
   "id": "092b8f63",
   "metadata": {},
   "source": [
    "##### IMPORT LIBRARIES"
   ]
  },
  {
   "cell_type": "code",
   "execution_count": 4,
   "id": "e651dc21",
   "metadata": {},
   "outputs": [],
   "source": [
    "import numpy as np\n",
    "import pandas as pd\n",
    "import matplotlib.pyplot as plt\n",
    "import seaborn as sns"
   ]
  },
  {
   "cell_type": "markdown",
   "id": "ed5b6bd5",
   "metadata": {},
   "source": [
    "#### IMPORTING & READING THE DATASET"
   ]
  },
  {
   "cell_type": "code",
   "execution_count": 6,
   "id": "a0a4ba16",
   "metadata": {},
   "outputs": [],
   "source": [
    "# Importing dataset\n",
    "data = pd.read_csv('Dataset/train.csv')\n",
    " \n",
    "\n",
    "\n",
    "# To display maximum rows and columns\n",
    "pd.set_option('max_columns',None)\n",
    "pd.set_option('max_rows',None)"
   ]
  },
  {
   "cell_type": "code",
   "execution_count": 7,
   "id": "e191ce9a",
   "metadata": {},
   "outputs": [],
   "source": [
    "def num_rows():\n",
    "    rows, columns = data.shape\n",
    "    print(f'The dataset has {rows} rows and {columns} columns')"
   ]
  },
  {
   "cell_type": "code",
   "execution_count": 8,
   "id": "6db923e1",
   "metadata": {},
   "outputs": [
    {
     "name": "stdout",
     "output_type": "stream",
     "text": [
      "The dataset has 69999 rows and 172 columns\n"
     ]
    }
   ],
   "source": [
    "num_rows()"
   ]
  },
  {
   "cell_type": "markdown",
   "id": "8b00d6fb",
   "metadata": {},
   "source": [
    "#### NUMBER OF FEATURES"
   ]
  },
  {
   "cell_type": "code",
   "execution_count": 9,
   "id": "f03622e9",
   "metadata": {},
   "outputs": [
    {
     "name": "stdout",
     "output_type": "stream",
     "text": [
      "NUMBER OF NUMERICAL AND CATEGORICAL FEATURES:\n",
      "There are 163 numerical features and 9 categorical features.\n"
     ]
    }
   ],
   "source": [
    "# Looping to find the number of categorical and numerical features\n",
    "num, obj = 0,0\n",
    "for feature in data.columns:\n",
    "    if data.dtypes[feature] != 'O':\n",
    "        num += 1\n",
    "    else:\n",
    "        obj += 1\n",
    "print('NUMBER OF NUMERICAL AND CATEGORICAL FEATURES:')\n",
    "print(f'There are {num} numerical features and {obj} categorical features.')"
   ]
  },
  {
   "cell_type": "markdown",
   "id": "49ca7cd7",
   "metadata": {},
   "source": []
  }
 ],
 "metadata": {
  "kernelspec": {
   "display_name": "Python 3",
   "language": "python",
   "name": "python3"
  },
  "language_info": {
   "codemirror_mode": {
    "name": "ipython",
    "version": 3
   },
   "file_extension": ".py",
   "mimetype": "text/x-python",
   "name": "python",
   "nbconvert_exporter": "python",
   "pygments_lexer": "ipython3",
   "version": "3.8.8"
  }
 },
 "nbformat": 4,
 "nbformat_minor": 5
}
